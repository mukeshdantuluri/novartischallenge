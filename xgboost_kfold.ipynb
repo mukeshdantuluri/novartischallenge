{
 "cells": [
  {
   "cell_type": "code",
   "execution_count": 38,
   "metadata": {},
   "outputs": [],
   "source": [
    "# preprocesssing libraries\n",
    "import pandas as pd\n",
    "import numpy as np\n",
    "\n",
    "# sklearn data manipulation libraries\n",
    "from sklearn.preprocessing import StandardScaler\n",
    "from sklearn.decomposition import PCA\n",
    "from sklearn.feature_selection import SelectFromModel\n",
    "from sklearn.model_selection import StratifiedKFold\n",
    "from sklearn.metrics import (\n",
    "    plot_confusion_matrix,\n",
    "    roc_auc_score,\n",
    "    roc_curve,\n",
    "    precision_recall_curve,\n",
    ")\n",
    "\n",
    "# catboost classifier\n",
    "from xgboost import XGBClassifier,XGBRFClassifier,plot_importance\n",
    "\n",
    "# Visualization libraries\n",
    "import seaborn as sns\n",
    "import matplotlib.pyplot as plt\n",
    "import warnings\n",
    "\n",
    "warnings.filterwarnings(\"ignore\")"
   ]
  },
  {
   "cell_type": "code",
   "execution_count": 39,
   "metadata": {},
   "outputs": [],
   "source": [
    "location = \"data/\""
   ]
  },
  {
   "cell_type": "code",
   "execution_count": 40,
   "metadata": {},
   "outputs": [],
   "source": [
    "def read_data(loc, filename):\n",
    "    df_in = pd.read_csv(loc + filename)\n",
    "    return df_in"
   ]
  },
  {
   "cell_type": "code",
   "execution_count": 41,
   "metadata": {},
   "outputs": [],
   "source": [
    "df_train = read_data(location, \"Train.csv\")\n",
    "df_test = read_data(location, \"Test.csv\")\n",
    "df_ss = read_data(location, \"sample_submission.csv\")"
   ]
  },
  {
   "cell_type": "code",
   "execution_count": 42,
   "metadata": {},
   "outputs": [
    {
     "data": {
      "text/html": [
       "<div>\n",
       "<style scoped>\n",
       "    .dataframe tbody tr th:only-of-type {\n",
       "        vertical-align: middle;\n",
       "    }\n",
       "\n",
       "    .dataframe tbody tr th {\n",
       "        vertical-align: top;\n",
       "    }\n",
       "\n",
       "    .dataframe thead th {\n",
       "        text-align: right;\n",
       "    }\n",
       "</style>\n",
       "<table border=\"1\" class=\"dataframe\">\n",
       "  <thead>\n",
       "    <tr style=\"text-align: right;\">\n",
       "      <th></th>\n",
       "      <th>INCIDENT_ID</th>\n",
       "      <th>DATE</th>\n",
       "      <th>X_1</th>\n",
       "      <th>X_2</th>\n",
       "      <th>X_3</th>\n",
       "      <th>X_4</th>\n",
       "      <th>X_5</th>\n",
       "      <th>X_6</th>\n",
       "      <th>X_7</th>\n",
       "      <th>X_8</th>\n",
       "      <th>X_9</th>\n",
       "      <th>X_10</th>\n",
       "      <th>X_11</th>\n",
       "      <th>X_12</th>\n",
       "      <th>X_13</th>\n",
       "      <th>X_14</th>\n",
       "      <th>X_15</th>\n",
       "      <th>MULTIPLE_OFFENSE</th>\n",
       "    </tr>\n",
       "  </thead>\n",
       "  <tbody>\n",
       "    <tr>\n",
       "      <th>0</th>\n",
       "      <td>CR_102659</td>\n",
       "      <td>04-JUL-04</td>\n",
       "      <td>0</td>\n",
       "      <td>36</td>\n",
       "      <td>34</td>\n",
       "      <td>2</td>\n",
       "      <td>1</td>\n",
       "      <td>5</td>\n",
       "      <td>6</td>\n",
       "      <td>1</td>\n",
       "      <td>6</td>\n",
       "      <td>1</td>\n",
       "      <td>174</td>\n",
       "      <td>1.0</td>\n",
       "      <td>92</td>\n",
       "      <td>29</td>\n",
       "      <td>36</td>\n",
       "      <td>0</td>\n",
       "    </tr>\n",
       "    <tr>\n",
       "      <th>1</th>\n",
       "      <td>CR_189752</td>\n",
       "      <td>18-JUL-17</td>\n",
       "      <td>1</td>\n",
       "      <td>37</td>\n",
       "      <td>37</td>\n",
       "      <td>0</td>\n",
       "      <td>0</td>\n",
       "      <td>11</td>\n",
       "      <td>17</td>\n",
       "      <td>1</td>\n",
       "      <td>6</td>\n",
       "      <td>1</td>\n",
       "      <td>236</td>\n",
       "      <td>1.0</td>\n",
       "      <td>103</td>\n",
       "      <td>142</td>\n",
       "      <td>34</td>\n",
       "      <td>1</td>\n",
       "    </tr>\n",
       "    <tr>\n",
       "      <th>2</th>\n",
       "      <td>CR_184637</td>\n",
       "      <td>15-MAR-17</td>\n",
       "      <td>0</td>\n",
       "      <td>3</td>\n",
       "      <td>2</td>\n",
       "      <td>3</td>\n",
       "      <td>5</td>\n",
       "      <td>1</td>\n",
       "      <td>0</td>\n",
       "      <td>2</td>\n",
       "      <td>3</td>\n",
       "      <td>1</td>\n",
       "      <td>174</td>\n",
       "      <td>1.0</td>\n",
       "      <td>110</td>\n",
       "      <td>93</td>\n",
       "      <td>34</td>\n",
       "      <td>1</td>\n",
       "    </tr>\n",
       "    <tr>\n",
       "      <th>3</th>\n",
       "      <td>CR_139071</td>\n",
       "      <td>13-FEB-09</td>\n",
       "      <td>0</td>\n",
       "      <td>33</td>\n",
       "      <td>32</td>\n",
       "      <td>2</td>\n",
       "      <td>1</td>\n",
       "      <td>7</td>\n",
       "      <td>1</td>\n",
       "      <td>1</td>\n",
       "      <td>6</td>\n",
       "      <td>1</td>\n",
       "      <td>249</td>\n",
       "      <td>1.0</td>\n",
       "      <td>72</td>\n",
       "      <td>29</td>\n",
       "      <td>34</td>\n",
       "      <td>1</td>\n",
       "    </tr>\n",
       "    <tr>\n",
       "      <th>4</th>\n",
       "      <td>CR_109335</td>\n",
       "      <td>13-APR-05</td>\n",
       "      <td>0</td>\n",
       "      <td>33</td>\n",
       "      <td>32</td>\n",
       "      <td>2</td>\n",
       "      <td>1</td>\n",
       "      <td>8</td>\n",
       "      <td>3</td>\n",
       "      <td>0</td>\n",
       "      <td>5</td>\n",
       "      <td>1</td>\n",
       "      <td>174</td>\n",
       "      <td>0.0</td>\n",
       "      <td>112</td>\n",
       "      <td>29</td>\n",
       "      <td>43</td>\n",
       "      <td>1</td>\n",
       "    </tr>\n",
       "  </tbody>\n",
       "</table>\n",
       "</div>"
      ],
      "text/plain": [
       "  INCIDENT_ID       DATE  X_1  X_2  X_3  X_4  X_5  X_6  X_7  X_8  X_9  X_10  \\\n",
       "0   CR_102659  04-JUL-04    0   36   34    2    1    5    6    1    6     1   \n",
       "1   CR_189752  18-JUL-17    1   37   37    0    0   11   17    1    6     1   \n",
       "2   CR_184637  15-MAR-17    0    3    2    3    5    1    0    2    3     1   \n",
       "3   CR_139071  13-FEB-09    0   33   32    2    1    7    1    1    6     1   \n",
       "4   CR_109335  13-APR-05    0   33   32    2    1    8    3    0    5     1   \n",
       "\n",
       "   X_11  X_12  X_13  X_14  X_15  MULTIPLE_OFFENSE  \n",
       "0   174   1.0    92    29    36                 0  \n",
       "1   236   1.0   103   142    34                 1  \n",
       "2   174   1.0   110    93    34                 1  \n",
       "3   249   1.0    72    29    34                 1  \n",
       "4   174   0.0   112    29    43                 1  "
      ]
     },
     "execution_count": 42,
     "metadata": {},
     "output_type": "execute_result"
    }
   ],
   "source": [
    "df_train.head()"
   ]
  },
  {
   "cell_type": "code",
   "execution_count": 43,
   "metadata": {},
   "outputs": [
    {
     "data": {
      "image/png": "[encoded data removed]",
      "text/plain": [
       "<Figure size 1152x1152 with 2 Axes>"
      ]
     },
     "metadata": {
      "needs_background": "light"
     },
     "output_type": "display_data"
    }
   ],
   "source": [
    "plt.figure(figsize=(16, 16))\n",
    "sns.heatmap(df_train.corr())\n",
    "plt.show()"
   ]
  },
  {
   "cell_type": "code",
   "execution_count": 44,
   "metadata": {},
   "outputs": [],
   "source": [
    "## replace unknown data\n",
    "def fill_unknown(df, col):\n",
    "    df[col] = df[col].fillna(-1)\n",
    "    df[col] = df[col].replace([np.inf, -np.inf], -1)\n",
    "    df[col] = df[col].astype(int)\n",
    "    return df"
   ]
  },
  {
   "cell_type": "code",
   "execution_count": 45,
   "metadata": {},
   "outputs": [],
   "source": [
    "## parse date columns\n",
    "def todate(df,col):\n",
    "    df[col] = pd.to_datetime(df[col])\n",
    "    return df"
   ]
  },
  {
   "cell_type": "code",
   "execution_count": 46,
   "metadata": {},
   "outputs": [],
   "source": [
    "df_train = fill_unknown(df_train, \"X_12\")\n",
    "df_test = fill_unknown(df_test, \"X_12\")\n",
    "df_train = todate(df_train, \"DATE\")\n",
    "df_test = todate(df_test, \"DATE\")\n"
   ]
  },
  {
   "cell_type": "code",
   "execution_count": 47,
   "metadata": {},
   "outputs": [
    {
     "data": {
      "text/plain": [
       "1    22788\n",
       "0     1068\n",
       "Name: MULTIPLE_OFFENSE, dtype: int64"
      ]
     },
     "execution_count": 47,
     "metadata": {},
     "output_type": "execute_result"
    }
   ],
   "source": [
    "df_train[\"MULTIPLE_OFFENSE\"].value_counts()"
   ]
  },
  {
   "cell_type": "code",
   "execution_count": 48,
   "metadata": {},
   "outputs": [],
   "source": [
    "X = df_train.drop([\"INCIDENT_ID\", \"MULTIPLE_OFFENSE\"], axis=1)\n",
    "y = df_train[[\"MULTIPLE_OFFENSE\"]]\n",
    "\n",
    "test = df_test.drop([\"INCIDENT_ID\"], axis=1)\n",
    "df_sub = df_test[[\"INCIDENT_ID\"]]\n",
    "\n",
    "# \tx_train = x\n",
    "# \ty_train = y\n",
    "# \tx_train, x_test, y_train, y_test = train_test_split(x, y, test_size=0.20, random_state=22"
   ]
  },
  {
   "cell_type": "code",
   "execution_count": 49,
   "metadata": {},
   "outputs": [],
   "source": [
    "## Adding features\n",
    "def feature_engg(df):\n",
    "    df[\"srday\"] = df[\"DATE\"].dt.day\n",
    "    df[\"srmon\"] = df[\"DATE\"].dt.month\n",
    "\n",
    "    ## binning days\n",
    "    df.loc[df[\"srday\"] <= 10, \"day_buc\"] = 1\n",
    "    df.loc[(df[\"srday\"] > 10) & (df[\"srday\"] <= 20), \"day_buc\"] = 2\n",
    "    df.loc[df[\"srday\"] > 20, \"day_buc\"] = 3\n",
    "\n",
    "    ## binning months into quarter\n",
    "    df.loc[df[\"srmon\"] <= 3, \"quarter\"] = 1\n",
    "    df.loc[(df[\"srmon\"] > 3) & (df[\"srmon\"] <= 6), \"quarter\"] = 2\n",
    "    df.loc[(df[\"srmon\"] > 6) & (df[\"srmon\"] <= 9), \"quarter\"] = 3\n",
    "    df.loc[df[\"srmon\"] > 9, \"quarter\"] = 4\n",
    "    \n",
    "    df['day_buc'] = df['day_buc'].astype(int)\n",
    "    df['quarter'] = df['quarter'].astype(int)\n",
    "\n",
    "    ## clubbing of low imp features in model\n",
    "    #     df['combo'] = df['X_3'].astype(str) + df['X_6'].astype(str)\n",
    "    #     df['combo'] = df['combo'].astype(int)\n",
    "\n",
    "    ## drop correlated and low imp features\n",
    "    df.drop(\n",
    "        [\"DATE\", \"X_1\", \"X_3\", \"X_6\", \"X_8\", \"srmon\"],\n",
    "        axis=1,\n",
    "        inplace=True,\n",
    "    )\n",
    "    return df"
   ]
  },
  {
   "cell_type": "code",
   "execution_count": 50,
   "metadata": {},
   "outputs": [
    {
     "data": {
      "text/html": [
       "<div>\n",
       "<style scoped>\n",
       "    .dataframe tbody tr th:only-of-type {\n",
       "        vertical-align: middle;\n",
       "    }\n",
       "\n",
       "    .dataframe tbody tr th {\n",
       "        vertical-align: top;\n",
       "    }\n",
       "\n",
       "    .dataframe thead th {\n",
       "        text-align: right;\n",
       "    }\n",
       "</style>\n",
       "<table border=\"1\" class=\"dataframe\">\n",
       "  <thead>\n",
       "    <tr style=\"text-align: right;\">\n",
       "      <th></th>\n",
       "      <th>X_2</th>\n",
       "      <th>X_4</th>\n",
       "      <th>X_5</th>\n",
       "      <th>X_7</th>\n",
       "      <th>X_9</th>\n",
       "      <th>X_10</th>\n",
       "      <th>X_11</th>\n",
       "      <th>X_12</th>\n",
       "      <th>X_13</th>\n",
       "      <th>X_14</th>\n",
       "      <th>X_15</th>\n",
       "      <th>srday</th>\n",
       "      <th>day_buc</th>\n",
       "      <th>quarter</th>\n",
       "    </tr>\n",
       "  </thead>\n",
       "  <tbody>\n",
       "    <tr>\n",
       "      <th>0</th>\n",
       "      <td>36</td>\n",
       "      <td>2</td>\n",
       "      <td>1</td>\n",
       "      <td>6</td>\n",
       "      <td>6</td>\n",
       "      <td>1</td>\n",
       "      <td>174</td>\n",
       "      <td>1</td>\n",
       "      <td>92</td>\n",
       "      <td>29</td>\n",
       "      <td>36</td>\n",
       "      <td>4</td>\n",
       "      <td>1</td>\n",
       "      <td>3</td>\n",
       "    </tr>\n",
       "    <tr>\n",
       "      <th>1</th>\n",
       "      <td>37</td>\n",
       "      <td>0</td>\n",
       "      <td>0</td>\n",
       "      <td>17</td>\n",
       "      <td>6</td>\n",
       "      <td>1</td>\n",
       "      <td>236</td>\n",
       "      <td>1</td>\n",
       "      <td>103</td>\n",
       "      <td>142</td>\n",
       "      <td>34</td>\n",
       "      <td>18</td>\n",
       "      <td>2</td>\n",
       "      <td>3</td>\n",
       "    </tr>\n",
       "    <tr>\n",
       "      <th>2</th>\n",
       "      <td>3</td>\n",
       "      <td>3</td>\n",
       "      <td>5</td>\n",
       "      <td>0</td>\n",
       "      <td>3</td>\n",
       "      <td>1</td>\n",
       "      <td>174</td>\n",
       "      <td>1</td>\n",
       "      <td>110</td>\n",
       "      <td>93</td>\n",
       "      <td>34</td>\n",
       "      <td>15</td>\n",
       "      <td>2</td>\n",
       "      <td>1</td>\n",
       "    </tr>\n",
       "    <tr>\n",
       "      <th>3</th>\n",
       "      <td>33</td>\n",
       "      <td>2</td>\n",
       "      <td>1</td>\n",
       "      <td>1</td>\n",
       "      <td>6</td>\n",
       "      <td>1</td>\n",
       "      <td>249</td>\n",
       "      <td>1</td>\n",
       "      <td>72</td>\n",
       "      <td>29</td>\n",
       "      <td>34</td>\n",
       "      <td>13</td>\n",
       "      <td>2</td>\n",
       "      <td>1</td>\n",
       "    </tr>\n",
       "    <tr>\n",
       "      <th>4</th>\n",
       "      <td>33</td>\n",
       "      <td>2</td>\n",
       "      <td>1</td>\n",
       "      <td>3</td>\n",
       "      <td>5</td>\n",
       "      <td>1</td>\n",
       "      <td>174</td>\n",
       "      <td>0</td>\n",
       "      <td>112</td>\n",
       "      <td>29</td>\n",
       "      <td>43</td>\n",
       "      <td>13</td>\n",
       "      <td>2</td>\n",
       "      <td>2</td>\n",
       "    </tr>\n",
       "  </tbody>\n",
       "</table>\n",
       "</div>"
      ],
      "text/plain": [
       "   X_2  X_4  X_5  X_7  X_9  X_10  X_11  X_12  X_13  X_14  X_15  srday  \\\n",
       "0   36    2    1    6    6     1   174     1    92    29    36      4   \n",
       "1   37    0    0   17    6     1   236     1   103   142    34     18   \n",
       "2    3    3    5    0    3     1   174     1   110    93    34     15   \n",
       "3   33    2    1    1    6     1   249     1    72    29    34     13   \n",
       "4   33    2    1    3    5     1   174     0   112    29    43     13   \n",
       "\n",
       "   day_buc  quarter  \n",
       "0        1        3  \n",
       "1        2        3  \n",
       "2        2        1  \n",
       "3        2        1  \n",
       "4        2        2  "
      ]
     },
     "execution_count": 50,
     "metadata": {},
     "output_type": "execute_result"
    }
   ],
   "source": [
    "X = feature_engg(X)\n",
    "test = feature_engg(test)\n",
    "\n",
    "X.head()"
   ]
  },
  {
   "cell_type": "code",
   "execution_count": 51,
   "metadata": {},
   "outputs": [
    {
     "data": {
      "text/plain": [
       "X_2        int64\n",
       "X_4        int64\n",
       "X_5        int64\n",
       "X_7        int64\n",
       "X_9        int64\n",
       "X_10       int64\n",
       "X_11       int64\n",
       "X_12       int64\n",
       "X_13       int64\n",
       "X_14       int64\n",
       "X_15       int64\n",
       "srday      int64\n",
       "day_buc    int64\n",
       "quarter    int64\n",
       "dtype: object"
      ]
     },
     "execution_count": 51,
     "metadata": {},
     "output_type": "execute_result"
    }
   ],
   "source": [
    "X.dtypes"
   ]
  },
  {
   "cell_type": "code",
   "execution_count": 52,
   "metadata": {},
   "outputs": [
    {
     "data": {
      "text/plain": [
       "(23856, 14)"
      ]
     },
     "execution_count": 52,
     "metadata": {},
     "output_type": "execute_result"
    }
   ],
   "source": [
    "X.shape"
   ]
  },
  {
   "cell_type": "code",
   "execution_count": 53,
   "metadata": {},
   "outputs": [],
   "source": [
    "cat_features_ids = [0, 2, 3, 4, 5, 6, 11, 12, 13]"
   ]
  },
  {
   "cell_type": "code",
   "execution_count": 54,
   "metadata": {},
   "outputs": [],
   "source": [
    "def display_importances(feature_importance_df_):\n",
    "    cols = (\n",
    "        feature_importance_df_[[\"feature\", \"importance\"]]\n",
    "        .groupby(\"feature\")\n",
    "        .mean()\n",
    "        .sort_values(by=\"importance\", ascending=False)[:40]\n",
    "        .index\n",
    "    )\n",
    "    best_features = feature_importance_df_.loc[\n",
    "        feature_importance_df_.feature.isin(cols)\n",
    "    ]\n",
    "    plt.figure(figsize=(8, 10))\n",
    "    sns.barplot(\n",
    "        x=\"importance\",\n",
    "        y=\"feature\",\n",
    "        data=best_features.sort_values(by=\"importance\", ascending=False),\n",
    "    )\n",
    "    plt.title(\"LightGBM Features\")\n",
    "    plt.tight_layout()"
   ]
  },
  {
   "cell_type": "code",
   "execution_count": 21,
   "metadata": {},
   "outputs": [],
   "source": [
    "def get_metric_and_best_threshold_from_roc_curve(\n",
    "    tpr, fpr, thresholds, num_pos_class, num_neg_class\n",
    "):\n",
    "    tp = tpr * num_pos_class\n",
    "    tn = (1 - fpr) * num_neg_class\n",
    "    acc = (tp + tn) / (num_pos_class + num_neg_class)\n",
    "\n",
    "    best_threshold = thresholds[np.argmax(acc)]\n",
    "    return np.amax(acc), best_threshold\n",
    "\n",
    "\n",
    "def get_metric_and_best_threshold_from_pr_curve(\n",
    "    precision, recall, thresholds, num_pos_class, num_neg_class\n",
    "):\n",
    "    tp = recall * num_pos_class\n",
    "    fp = (tp / precision) - tp\n",
    "    tn = num_neg_class - fp\n",
    "    acc = (tp + tn) / (num_pos_class + num_neg_class)\n",
    "\n",
    "    best_threshold = thresholds[np.argmax(acc)]\n",
    "    return np.amax(acc), best_threshold"
   ]
  },
  {
   "cell_type": "code",
   "execution_count": 22,
   "metadata": {},
   "outputs": [
    {
     "name": "stdout",
     "output_type": "stream",
     "text": [
      "Max Recall:  0.9997806055287407\n",
      "Best Threshold:  1.0\n"
     ]
    }
   ],
   "source": [
    "max_recall, best_thres = get_metric_and_best_threshold_from_pr_curve(\n",
    "    prec, rec, thres, 1, 1\n",
    ")\n",
    "print(\"Max Recall: \", max_recall)\n",
    "print(\"Best Threshold: \", best_thres)"
   ]
  },
  {
   "cell_type": "code",
   "execution_count": 23,
   "metadata": {},
   "outputs": [],
   "source": [
    "## Get average of predict proba and apply best threshold for binary classification\n",
    "df_sub[\"MULTIPLE_OFFENSE_sum\"] = (\n",
    "    df_sub[\"MULTIPLE_OFFENSE1\"]\n",
    "    + df_sub[\"MULTIPLE_OFFENSE2\"]\n",
    "    + df_sub[\"MULTIPLE_OFFENSE3\"]\n",
    "    + df_sub[\"MULTIPLE_OFFENSE4\"]\n",
    "    + df_sub[\"MULTIPLE_OFFENSE5\"]\n",
    ")\n",
    "\n",
    "df_sub[\"MULTIPLE_OFFENSE\"] = df_sub[\"MULTIPLE_OFFENSE_sum\"].apply(\n",
    "    lambda x: 1 if x / 5 >= best_thres else 0\n",
    ")"
   ]
  },
  {
   "cell_type": "code",
   "execution_count": 24,
   "metadata": {},
   "outputs": [
    {
     "data": {
      "text/plain": [
       "1    15173\n",
       "0      730\n",
       "Name: MULTIPLE_OFFENSE, dtype: int64"
      ]
     },
     "execution_count": 24,
     "metadata": {},
     "output_type": "execute_result"
    }
   ],
   "source": [
    "df_finalsub = df_sub[[\"INCIDENT_ID\", \"MULTIPLE_OFFENSE\"]]\n",
    "df_finalsub[\"MULTIPLE_OFFENSE\"].value_counts()"
   ]
  },
  {
   "cell_type": "code",
   "execution_count": 25,
   "metadata": {},
   "outputs": [],
   "source": [
    "df_finalsub.to_csv(\"highest_submission_21.csv\", index=False)"
   ]
  },
  {
   "cell_type": "code",
   "execution_count": null,
   "metadata": {},
   "outputs": [],
   "source": []
  }
 ],
 "metadata": {
  "kernelspec": {
   "display_name": "Python 3",
   "language": "python",
   "name": "python3"
  },
  "language_info": {
   "codemirror_mode": {
    "name": "ipython",
    "version": 3
   },
   "file_extension": ".py",
   "mimetype": "text/x-python",
   "name": "python",
   "nbconvert_exporter": "python",
   "pygments_lexer": "ipython3",
   "version": "3.6.10"
  }
 },
 "nbformat": 4,
 "nbformat_minor": 4
}
